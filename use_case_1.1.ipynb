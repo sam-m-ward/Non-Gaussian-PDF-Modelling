{
 "cells": [
  {
   "cell_type": "markdown",
   "id": "64b9dd5f",
   "metadata": {},
   "source": [
    "# Sampling from a non-Gaussian pdf using a parametric approximation of the ICDF"
   ]
  },
  {
   "cell_type": "markdown",
   "id": "5ed41983",
   "metadata": {},
   "source": [
    "### Goal\n",
    "\n",
    "The scientific goal of this notebook is to determine how many Type Ia Supernova 'siblings' (SNe Ia) are required to tightly constrain their 'relative intrinsic scatter', $\\sigma_{\\rm{Rel}}$. \n",
    "\n",
    "### Domain Knowledge\n",
    "\n",
    "To do this, we need to be able to simulate an arbitrary number of siblings distance estimates, and their individual measurement uncertainties. With a number of galaxies, $G$, each with 2 siblings, we can compute a posterior on $\\sigma_{\\rm{Rel}}$ across a population. Values of each galaxy's mean distance have no effect on the $\\sigma_{\\rm{Rel}}$ calculation, and $\\sigma_{\\rm{Rel}}$ is a pre-defined parameter in the simulation. Therefore, the part which affects our $\\sigma_{\\rm{Rel}}$ inference is the error on each distance estimate: the larger the errors, the wider the posterior on $\\sigma_{\\rm{Rel}}$, and therefore the more siblings galaxies that are required to tightly constrain this relative intrinsic scatter parameter.\n",
    "\n",
    "We proceed to take *BayeSN* samples from individual fits to 236 SNe Ia. The resulting distribution of measurement errors are representative of the underlying distribution we would expect from a similar survey, were we to observe for longer and thus observe more siblings. **This is the non-Gaussian pdf we wish to simulate from.**\n",
    "\n",
    "### Methods\n",
    "\n",
    "We take the measurement error distribution, compute the CDF, extract 15 quantiles, invert, and interpolate the ICDF coordinates using a monotonic cubic spline. We then simulate from this distribution, allowing us to simulate an arbitrary number of siblings galaxies. We then ask, given the $\\sigma_{\\rm{Rel}}$ posteriors (which result from the measurement error distribution), how many siblings galaxies are required to 'tightly' constrain $\\sigma_{\\rm{Rel}}$. We define a good constraint to be $\\approx$0.01 mag 68% uncertainty."
   ]
  },
  {
   "cell_type": "code",
   "execution_count": null,
   "id": "f8a5ef73",
   "metadata": {},
   "outputs": [],
   "source": []
  },
  {
   "cell_type": "code",
   "execution_count": null,
   "id": "f6b0be26",
   "metadata": {},
   "outputs": [],
   "source": []
  },
  {
   "cell_type": "code",
   "execution_count": null,
   "id": "f4f878e4",
   "metadata": {},
   "outputs": [],
   "source": []
  },
  {
   "cell_type": "code",
   "execution_count": null,
   "id": "0fa16e1b",
   "metadata": {},
   "outputs": [],
   "source": []
  },
  {
   "cell_type": "code",
   "execution_count": null,
   "id": "f0d85e8f",
   "metadata": {},
   "outputs": [],
   "source": []
  },
  {
   "cell_type": "code",
   "execution_count": null,
   "id": "9e8fa6de",
   "metadata": {},
   "outputs": [],
   "source": []
  },
  {
   "cell_type": "code",
   "execution_count": null,
   "id": "6b4718dc",
   "metadata": {},
   "outputs": [],
   "source": []
  }
 ],
 "metadata": {
  "kernelspec": {
   "display_name": "Python 3 (ipykernel)",
   "language": "python",
   "name": "python3"
  },
  "language_info": {
   "codemirror_mode": {
    "name": "ipython",
    "version": 3
   },
   "file_extension": ".py",
   "mimetype": "text/x-python",
   "name": "python",
   "nbconvert_exporter": "python",
   "pygments_lexer": "ipython3",
   "version": "3.9.12"
  }
 },
 "nbformat": 4,
 "nbformat_minor": 5
}
